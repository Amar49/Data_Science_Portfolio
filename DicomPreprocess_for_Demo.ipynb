{
 "cells": [
  {
   "cell_type": "code",
   "execution_count": 1,
   "metadata": {},
   "outputs": [
    {
     "name": "stderr",
     "output_type": "stream",
     "text": [
      "C:\\Users\\320026907\\AppData\\Local\\conda\\conda\\envs\\amar\\lib\\site-packages\\dicom\\__init__.py:53: UserWarning: \n",
      "This code is using an older version of pydicom, which is no longer \n",
      "maintained as of Jan 2017.  You can access the new pydicom features and API \n",
      "by installing `pydicom` from PyPI.\n",
      "See 'Transitioning to pydicom 1.x' section at pydicom.readthedocs.org \n",
      "for more information.\n",
      "\n",
      "  warnings.warn(msg)\n"
     ]
    }
   ],
   "source": [
    "import numpy as np # linear algebra\n",
    "import pandas as pd # data processing, CSV file I/O (e.g. pd.read_csv)\n",
    "import dicom\n",
    "import os\n",
    "import scipy.ndimage\n",
    "import matplotlib.pyplot as plt"
   ]
  },
  {
   "cell_type": "code",
   "execution_count": 2,
   "metadata": {},
   "outputs": [],
   "source": [
    "from skimage import measure, morphology\n",
    "from mpl_toolkits.mplot3d.art3d import Poly3DCollection\n",
    "import cv2"
   ]
  },
  {
   "cell_type": "code",
   "execution_count": 3,
   "metadata": {},
   "outputs": [],
   "source": [
    "# Some constants \n",
    "INPUT_FOLDER = './S13408'"
   ]
  },
  {
   "cell_type": "code",
   "execution_count": 4,
   "metadata": {},
   "outputs": [],
   "source": [
    "def load_scan(path):\n",
    "    slices = [dicom.read_file(path + '/' + s) for s in os.listdir(path)] #Read all slices of 3D dicom image\n",
    "    slices.sort(key = lambda x: int(x.InstanceNumber))\n",
    "    return slices"
   ]
  },
  {
   "cell_type": "code",
   "execution_count": 5,
   "metadata": {},
   "outputs": [],
   "source": [
    "patient = load_scan(INPUT_FOLDER)"
   ]
  },
  {
   "cell_type": "code",
   "execution_count": 6,
   "metadata": {},
   "outputs": [],
   "source": [
    "patient_img_data = []\n",
    "for i in range(len(patient)):\n",
    "    patient_img_data.append(patient[i].pixel_array)"
   ]
  },
  {
   "cell_type": "code",
   "execution_count": 7,
   "metadata": {},
   "outputs": [],
   "source": [
    "patient_data = np.array(patient_img_data)"
   ]
  },
  {
   "cell_type": "code",
   "execution_count": 8,
   "metadata": {},
   "outputs": [
    {
     "data": {
      "text/plain": [
       "(166, 256, 256)"
      ]
     },
     "execution_count": 8,
     "metadata": {},
     "output_type": "execute_result"
    }
   ],
   "source": [
    "#Dicom tag \"Samples per Pixel\" specifies no of channels in dicom pixel data\n",
    "#1 for the single grayscale channel and 3 for RGB\n",
    "\n",
    "#\"Photometric Interpratation\" = \"RGB\" ---- For Red, Green, Blue\n",
    "#                             = \"\"MONOCHROME2\" ---- meaning its grayscale and 0 should be interpreted as Black\n",
    "patient_data.shape"
   ]
  },
  {
   "cell_type": "code",
   "execution_count": 35,
   "metadata": {},
   "outputs": [],
   "source": [
    "'''maxi = -1\n",
    "img_no = -1\n",
    "for i in range(len(patient_data)):\n",
    "    if maxi < np.max(patient_data[i]):\n",
    "        maxi = np.max(patient_data[i])\n",
    "        img_no = i\n",
    "''' "
   ]
  },
  {
   "cell_type": "code",
   "execution_count": 36,
   "metadata": {},
   "outputs": [
    {
     "name": "stdout",
     "output_type": "stream",
     "text": [
      "16898 102\n"
     ]
    }
   ],
   "source": [
    "#print(maxi,img_no)"
   ]
  },
  {
   "cell_type": "code",
   "execution_count": 9,
   "metadata": {},
   "outputs": [
    {
     "name": "stdout",
     "output_type": "stream",
     "text": [
      "Max pixel data =  17004\n",
      "Min pixel data =  0\n"
     ]
    }
   ],
   "source": [
    "print(\"Max pixel data = \",np.max(patient_data))\n",
    "print(\"Min pixel data = \",np.min(patient_data))"
   ]
  },
  {
   "cell_type": "code",
   "execution_count": null,
   "metadata": {},
   "outputs": [],
   "source": [
    "'''img = cv2.threshold(patient_data,100,255,cv2.THRESH_BINARY)\n",
    "cv2.imshow('image',img)\n",
    "cv2.waitKey(0)\n",
    "cv2.destroyAllWindows()'''"
   ]
  },
  {
   "cell_type": "code",
   "execution_count": 11,
   "metadata": {},
   "outputs": [],
   "source": [
    "def Normalize_image(patient_data):\n",
    "    Max_pixel = np.max(patient_data)\n",
    "    Min_pixel = np.min(patient_data)\n",
    "    new_img = (patient_data-Min_pixel)/(Max_pixel-Min_pixel)\n",
    "    return new_img\n",
    "    "
   ]
  },
  {
   "cell_type": "code",
   "execution_count": 12,
   "metadata": {},
   "outputs": [],
   "source": [
    "new_img = Normalize_image(patient_data)"
   ]
  },
  {
   "cell_type": "code",
   "execution_count": 13,
   "metadata": {},
   "outputs": [
    {
     "data": {
      "text/plain": [
       "(166, 256, 256)"
      ]
     },
     "execution_count": 13,
     "metadata": {},
     "output_type": "execute_result"
    }
   ],
   "source": [
    "new_img.shape"
   ]
  },
  {
   "cell_type": "code",
   "execution_count": 16,
   "metadata": {},
   "outputs": [
    {
     "data": {
      "text/plain": [
       "0.0"
      ]
     },
     "execution_count": 16,
     "metadata": {},
     "output_type": "execute_result"
    }
   ],
   "source": [
    "np.min(new_img)"
   ]
  },
  {
   "cell_type": "code",
   "execution_count": 21,
   "metadata": {},
   "outputs": [
    {
     "name": "stdout",
     "output_type": "stream",
     "text": [
      "Mean of Normalized image =  0.07202060303854815\n",
      "Mean of original image =  1224.638334067471\n",
      "SD of Normalized image =  0.09952202374032751\n",
      "SD of original image =  1692.2724916805287\n"
     ]
    }
   ],
   "source": [
    "print(\"Mean of Normalized image = \",np.mean(new_img))\n",
    "print(\"Mean of original image = \",np.mean(patient_data))\n",
    "print(\"SD of Normalized image = \",np.std(new_img))\n",
    "print(\"SD of original image = \",np.std(patient_data))"
   ]
  },
  {
   "cell_type": "code",
   "execution_count": 29,
   "metadata": {},
   "outputs": [],
   "source": [
    "def standardize_image(patient_data):\n",
    "    std_img = (patient_data - np.mean(patient_data))/np.std(patient_data)\n",
    "    return std_img"
   ]
  },
  {
   "cell_type": "code",
   "execution_count": 30,
   "metadata": {},
   "outputs": [],
   "source": [
    "std_img = standardize_image(patient_data)"
   ]
  },
  {
   "cell_type": "code",
   "execution_count": 38,
   "metadata": {},
   "outputs": [
    {
     "name": "stdout",
     "output_type": "stream",
     "text": [
      "Mean of Standardized image =  6.077802250771753e-17\n",
      "Mean of original image =  1224.638334067471\n",
      "SD of Standardized image =  1.0000000000000002\n",
      "SD of original image =  1692.2724916805287\n"
     ]
    }
   ],
   "source": [
    "print(\"Mean of Standardized image = \",np.mean(std_img))\n",
    "print(\"Mean of original image = \",np.mean(patient_data))\n",
    "print(\"SD of Standardized image = \",np.std(std_img))\n",
    "print(\"SD of original image = \",np.std(patient_data))"
   ]
  },
  {
   "cell_type": "code",
   "execution_count": 39,
   "metadata": {},
   "outputs": [
    {
     "data": {
      "text/plain": [
       "'Normalization rescales the values into a range of [0,1]. \\nThis might be useful in some cases where all parameters need to have the same positive scale. \\nHowever, the outliers from the data set are lost. \\nStandardization rescales data to have a mean ( ) of 0 and standard deviation ( ) of 1 (unit variance).'"
      ]
     },
     "execution_count": 39,
     "metadata": {},
     "output_type": "execute_result"
    }
   ],
   "source": [
    "'''Normalization rescales the values into a range of [0,1]. \n",
    "This might be useful in some cases where all parameters need to have the same positive scale. \n",
    "However, the outliers from the data set are lost. \n",
    "Standardization rescales data to have a mean ( ) of 0 and standard deviation ( ) of 1 (unit variance).'''\n",
    "\n",
    "#Normalization and Standardization helps to converge the GD fast\n",
    "\n",
    "'''NormaliZation:\n",
    "Normalization is useful when your data has varying scales and the algorithm you are using does not make assumptions about the \n",
    "distribution of your data, such as k-nearest neighbors and artificial neural networks.\n",
    "\n",
    "You can use other scales such as -1 to 1, which is useful when using support vector machines and adaboost.\n",
    "'''\n",
    "\n",
    "'''\n",
    "Standardization:\n",
    "Standardization is useful when your data has varying scales and the algorithm you are using does make assumptions about \n",
    "your data having a Gaussian distribution, such as linear regression, logistic regression and linear discriminant analysis.\n",
    "'''"
   ]
  },
  {
   "cell_type": "code",
   "execution_count": null,
   "metadata": {},
   "outputs": [],
   "source": [
    "'''\n",
    "Resampling in image:\n",
    "Image resampling is the process of transforming a sampled image from one coordinate system to another.'''\n",
    "\n",
    "'''\n",
    "Resampling means you're changing the pixel dimensions of an image. \n",
    "When you downsample, you're eliminating pixels and therefore deleting information and detail from your image. \n",
    "When you upsample, you're adding pixels. Photoshop adds these pixels by using interpolation.'''"
   ]
  },
  {
   "cell_type": "code",
   "execution_count": 76,
   "metadata": {},
   "outputs": [],
   "source": [
    "def resample(image, scan, new_spacing=[1,1,1]):\n",
    "    # Determine current pixel spacing\n",
    "    spacing = map(float, ([scan[0].SliceThickness] + scan[0].PixelSpacing))\n",
    "    spacing = np.array(list(spacing))\n",
    "    #print(\"[Slice Thickness, pixel Width, Height] = \",spacing)\n",
    "    resize_factor = spacing / new_spacing\n",
    "    #print(\"resize_factor = \", resize_factor)\n",
    "    new_real_shape = image.shape * resize_factor\n",
    "    #print(\"new_real_shape = \", new_real_shape)\n",
    "    new_shape = np.round(new_real_shape)\n",
    "    real_resize_factor = new_shape / image.shape\n",
    "    #print(\"real_resize_factor = \", real_resize_factor)\n",
    "    new_spacing = spacing / real_resize_factor\n",
    "    #print(\"new_spacing = \", new_spacing)\n",
    "    \n",
    "    image = scipy.ndimage.interpolation.zoom(image, real_resize_factor)\n",
    "    \n",
    "    return image, new_spacing"
   ]
  },
  {
   "cell_type": "code",
   "execution_count": 78,
   "metadata": {},
   "outputs": [
    {
     "name": "stdout",
     "output_type": "stream",
     "text": [
      "[Slice Thickness, pixel Width, Height] =  [1.2    0.9375 0.9375]\n",
      "resize_factor =  [1.2    0.9375 0.9375]\n",
      "new_real_shape =  [199.2 240.  240. ]\n",
      "real_resize_factor =  [1.19879518 0.9375     0.9375    ]\n",
      "new_spacing =  [1.00100503 1.         1.        ]\n"
     ]
    }
   ],
   "source": [
    "pix_resampled, spacing = resample(patient_data, patient, [1,1,1])"
   ]
  },
  {
   "cell_type": "code",
   "execution_count": 79,
   "metadata": {},
   "outputs": [
    {
     "name": "stdout",
     "output_type": "stream",
     "text": [
      "Shape before resampling\t (166, 256, 256)\n",
      "Shape after resampling\t (199, 240, 240)\n"
     ]
    }
   ],
   "source": [
    "print(\"Shape before resampling\\t\", patient_data.shape)\n",
    "print(\"Shape after resampling\\t\", pix_resampled.shape)"
   ]
  },
  {
   "cell_type": "code",
   "execution_count": 47,
   "metadata": {},
   "outputs": [],
   "source": [
    "def plot_3d(image, threshold=-300):\n",
    "    \n",
    "    # Position the scan upright, \n",
    "    # so the head of the patient would be at the top facing the camera\n",
    "    p = image.transpose(2,1,0)\n",
    "    p = p[:,:,::-1]\n",
    "    \n",
    "    #verts, faces = measure.marching_cubes(p, threshold)\n",
    "    verts, faces, normals, values = measure.marching_cubes_lewiner(p, threshold)\n",
    "    \n",
    "    fig = plt.figure(figsize=(10, 10))\n",
    "    ax = fig.add_subplot(111, projection='3d')\n",
    "\n",
    "    # Fancy indexing: `verts[faces]` to generate a collection of triangles\n",
    "    mesh = Poly3DCollection(verts[faces], alpha=0.1)\n",
    "    face_color = [0.5, 0.5, 1]\n",
    "    mesh.set_facecolor(face_color)\n",
    "    ax.add_collection3d(mesh)\n",
    "\n",
    "    ax.set_xlim(0, p.shape[0])\n",
    "    ax.set_ylim(0, p.shape[1])\n",
    "    ax.set_zlim(0, p.shape[2])\n",
    "\n",
    "    plt.show()"
   ]
  },
  {
   "cell_type": "code",
   "execution_count": 50,
   "metadata": {},
   "outputs": [],
   "source": [
    "#To plot the 3D image\n",
    "plot_3d(pix_resampled, 200)"
   ]
  },
  {
   "cell_type": "code",
   "execution_count": 97,
   "metadata": {},
   "outputs": [
    {
     "data": {
      "image/png": "[encoded data removed]",
      "text/plain": [
       "<Figure size 432x288 with 1 Axes>"
      ]
     },
     "metadata": {
      "needs_background": "light"
     },
     "output_type": "display_data"
    },
    {
     "data": {
      "image/png": "[encoded data removed]",
      "text/plain": [
       "<Figure size 432x288 with 1 Axes>"
      ]
     },
     "metadata": {
      "needs_background": "light"
     },
     "output_type": "display_data"
    }
   ],
   "source": [
    "#pixel value frequencies\n",
    "plt.hist(patient_data.flatten(), bins=80, color='c')\n",
    "plt.xlabel(\"pixel values\")\n",
    "plt.ylabel(\"Frequency\")\n",
    "plt.show()\n",
    "\n",
    "# Show some slice in the middle\n",
    "plt.imshow(patient_data[80], cmap=plt.cm.gray)\n",
    "plt.show()"
   ]
  },
  {
   "cell_type": "code",
   "execution_count": 120,
   "metadata": {},
   "outputs": [
    {
     "name": "stdout",
     "output_type": "stream",
     "text": [
      "255\n",
      "84.0\n",
      "[[0 0 0 ... 0 0 0]\n",
      " [0 0 0 ... 0 0 0]\n",
      " [0 0 0 ... 0 0 0]\n",
      " ...\n",
      " [0 0 0 ... 0 0 0]\n",
      " [0 0 0 ... 0 0 0]\n",
      " [0 0 0 ... 0 0 0]]\n"
     ]
    },
    {
     "data": {
      "image/png": "[encoded data removed]",
      "text/plain": [
       "<Figure size 432x288 with 1 Axes>"
      ]
     },
     "metadata": {
      "needs_background": "light"
     },
     "output_type": "display_data"
    }
   ],
   "source": [
    "# Otsu's thresholding after Gaussian filtering\n",
    "print(np.max(img))\n",
    "blur = cv2.GaussianBlur(img,(5,5),0)\n",
    "ret3,th3 = cv2.threshold(blur,0,255,cv2.THRESH_BINARY+cv2.THRESH_OTSU)\n",
    "\n",
    "print(ret3)\n",
    "print(th3)\n",
    "# Show some slice in the middle\n",
    "plt.imshow(th3, cmap=plt.cm.gray)\n",
    "plt.show()"
   ]
  },
  {
   "cell_type": "code",
   "execution_count": 105,
   "metadata": {},
   "outputs": [
    {
     "name": "stdout",
     "output_type": "stream",
     "text": [
      "[[16 16 16 ... 16 16 16]\n",
      " [16 16 16 ... 16 16 16]\n",
      " [16 16 16 ... 16 16 16]\n",
      " ...\n",
      " [17 17 17 ... 16 16 16]\n",
      " [16 16 16 ... 16 16 16]\n",
      " [15 15 15 ... 16 16 17]]\n"
     ]
    }
   ],
   "source": [
    "img = cv2.imread('test.jpeg',0)\n",
    "print(img)"
   ]
  },
  {
   "cell_type": "code",
   "execution_count": 116,
   "metadata": {},
   "outputs": [
    {
     "name": "stdout",
     "output_type": "stream",
     "text": [
      "[[  0   0   0 ...  41  62  46]\n",
      " [  0   0   0 ...  78  65  77]\n",
      " [ 67  51  62 ... 115  77 101]\n",
      " ...\n",
      " [ 88 173 167 ... 197 175 134]\n",
      " [ 69 112  91 ... 128 155 135]\n",
      " [ 60  99  83 ...  59  88  78]]\n"
     ]
    }
   ],
   "source": [
    "print(patient_data[80])"
   ]
  },
  {
   "cell_type": "code",
   "execution_count": 126,
   "metadata": {},
   "outputs": [
    {
     "name": "stdout",
     "output_type": "stream",
     "text": [
      "0.16842800528401586\n"
     ]
    }
   ],
   "source": [
    "#NewValue = (((OldValue - OldMin) * (NewMax - NewMin)) / (OldMax - OldMin)) + NewMin\n",
    "new = (((1-0)*(255-0))/(1514-0)) + 0\n",
    "print(new)"
   ]
  },
  {
   "cell_type": "code",
   "execution_count": 127,
   "metadata": {},
   "outputs": [],
   "source": [
    "def Normalize_0_to_255(img):\n",
    "    OldMin = np.min(img)\n",
    "    OldMax = np.max(img)\n",
    "    \n",
    "    NewMin = 0\n",
    "    NewMax = 255\n",
    "    \n",
    "    new_img = (((img - OldMin) * (NewMax - NewMin)) / (OldMax - OldMin)) + NewMin\n",
    "    return new_img"
   ]
  },
  {
   "cell_type": "code",
   "execution_count": 128,
   "metadata": {},
   "outputs": [],
   "source": [
    "new_img = Normalize_0_to_255(patient_data[80])"
   ]
  },
  {
   "cell_type": "code",
   "execution_count": 129,
   "metadata": {},
   "outputs": [
    {
     "name": "stdout",
     "output_type": "stream",
     "text": [
      "[[ 0.          0.          0.         ...  0.67621758  1.02257293\n",
      "   0.75868314]\n",
      " [ 0.          0.          0.         ...  1.28646271  1.07205226\n",
      "   1.2699696 ]\n",
      " [ 1.10503848  0.8411487   1.02257293 ...  1.89670785  1.2699696\n",
      "   1.66580428]\n",
      " ...\n",
      " [ 1.45139383 -1.38548606 -1.48444473 ... -0.98965138 -1.35249984\n",
      "  -2.02871742]\n",
      " [ 1.13802471  1.84722851  1.50087316 ...  2.1111183  -1.68236207\n",
      "  -2.01222431]\n",
      " [ 0.9895867   1.63281806  1.36892827 ...  0.97309359  1.45139383\n",
      "   1.28646271]]\n"
     ]
    }
   ],
   "source": [
    "print(new_img)"
   ]
  },
  {
   "cell_type": "code",
   "execution_count": 181,
   "metadata": {},
   "outputs": [
    {
     "name": "stdout",
     "output_type": "stream",
     "text": [
      "1100.0\n",
      "[[0 0 0 ... 0 0 0]\n",
      " [0 0 0 ... 0 0 0]\n",
      " [0 0 0 ... 0 0 0]\n",
      " ...\n",
      " [0 0 0 ... 0 0 0]\n",
      " [0 0 0 ... 0 0 0]\n",
      " [0 0 0 ... 0 0 0]]\n"
     ]
    },
    {
     "data": {
      "text/plain": [
       "<matplotlib.image.AxesImage at 0x1f631dd76a0>"
      ]
     },
     "execution_count": 181,
     "metadata": {},
     "output_type": "execute_result"
    },
    {
     "data": {
      "image/png": "[encoded data removed]",
      "text/plain": [
       "<Figure size 432x288 with 1 Axes>"
      ]
     },
     "metadata": {
      "needs_background": "light"
     },
     "output_type": "display_data"
    }
   ],
   "source": [
    "# Otsu's thresholding after Gaussian filtering\n",
    "#print(np.max(img))\n",
    "#blur = cv2.GaussianBlur(patient_data[80],(5,5),0)\n",
    "#blur = blur.astype('uint8')\n",
    "#ret3,th3 = cv2.threshold(blur,0,255,cv2.THRESH_BINARY | cv2.THRESH_OTSU)\n",
    "#ret3,th3 = cv2.threshold(img,0,255,cv2.THRESH_OTSU)\n",
    "#th3 = cv2.adaptiveThreshold(img,255,cv2.ADAPTIVE_THRESH_MEAN_C,cv2.THRESH_BINARY,11,2)\n",
    "#th3 = cv2.adaptiveThreshold(blur,255,cv2.ADAPTIVE_THRESH_GAUSSIAN_C,cv2.THRESH_BINARY,9,1.5)\n",
    "ret3,th3 = cv2.threshold(patient_data[80],1100,255,cv2.THRESH_BINARY)\n",
    "print(ret3)\n",
    "print(th3)\n",
    "# Show some slice in the middle\n",
    "#plt.imshow(patient_data[80], cmap=plt.cm.gray)\n",
    "plt.imshow(th3, cmap=plt.cm.gray)"
   ]
  },
  {
   "cell_type": "code",
   "execution_count": null,
   "metadata": {},
   "outputs": [],
   "source": [
    "#In this, the algorithm calculate the threshold for a small regions of the image.  So we get different thresholds \n",
    "#for different regions of the same image and it gives us better results for images with varying illumination.\n",
    "'''\n",
    "Adaptive Method - It decides how thresholding value is calculated.\n",
    "\n",
    "cv2.ADAPTIVE_THRESH_MEAN_C : threshold value is the mean of neighbourhood area.\n",
    "cv2.ADAPTIVE_THRESH_GAUSSIAN_C : threshold value is the weighted sum of neighbourhood values where weights are a gaussian window.\n",
    "'''\n",
    "'''\n",
    "Block Size - It decides the size of neighbourhood area.\n",
    "\n",
    "C - It is just a constant which is subtracted from the mean or weighted mean calculated.\n",
    "'''\n",
    "\n",
    "\n",
    "#Thresholding operation is used to convert a multilevel/gray scale image into binary image \n",
    "#The advantage of obtaining first a binary image is that it reduces the complexity of the data \n",
    "#and simplifies the process of recognition and classifiction.\n"
   ]
  },
  {
   "cell_type": "code",
   "execution_count": null,
   "metadata": {},
   "outputs": [],
   "source": []
  }
 ],
 "metadata": {
  "kernelspec": {
   "display_name": "Python (amar)",
   "language": "python",
   "name": "amar"
  },
  "language_info": {
   "codemirror_mode": {
    "name": "ipython",
    "version": 3
   },
   "file_extension": ".py",
   "mimetype": "text/x-python",
   "name": "python",
   "nbconvert_exporter": "python",
   "pygments_lexer": "ipython3",
   "version": "3.6.6"
  }
 },
 "nbformat": 4,
 "nbformat_minor": 2
}
